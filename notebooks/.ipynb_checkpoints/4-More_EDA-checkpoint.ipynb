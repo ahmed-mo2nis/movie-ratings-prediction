{
 "cells": [
  {
   "cell_type": "markdown",
   "metadata": {},
   "source": [
    "# Regression Open-Ended Project"
   ]
  },
  {
   "cell_type": "markdown",
   "metadata": {
    "collapsed": true
   },
   "source": [
    "-----"
   ]
  },
  {
   "cell_type": "markdown",
   "metadata": {},
   "source": [
    "# Previous Notebooks\n",
    "\n",
    "- Web Scraping\n",
    "- Cleaning data\n",
    "- Exploratory Data Analysis\n",
    "- Feature Engineering"
   ]
  },
  {
   "cell_type": "markdown",
   "metadata": {},
   "source": [
    "# More EDA"
   ]
  },
  {
   "cell_type": "code",
   "execution_count": null,
   "metadata": {
    "collapsed": true
   },
   "outputs": [],
   "source": [
    "import pandas as pd\n",
    "import numpy as np\n",
    "import pickle\n",
    "import matplotlib.pyplot as plt\n",
    "%matplotlib inline\n",
    "import seaborn as sns"
   ]
  },
  {
   "cell_type": "code",
   "execution_count": null,
   "metadata": {
    "collapsed": false
   },
   "outputs": [],
   "source": [
    "ebert_imdb_df = pickle.load(open('../data/processed/ebert_imdb_df_v6.pkl', 'rb'))\n",
    "unique_genres = pickle.load(open('data/interim/unique_genres.pkl', 'rb'))"
   ]
  },
  {
   "cell_type": "code",
   "execution_count": null,
   "metadata": {
    "collapsed": false
   },
   "outputs": [],
   "source": [
    "genre_counts = pd.Series(index=unique_genres, dtype=int)\n",
    "\n",
    "for genre in unique_genres:\n",
    "    genre_counts[genre] = len(ebert_imdb_df[ebert_imdb_df[genre] == 1])\n",
    "    \n",
    "genre_counts.sort_values(ascending=False, inplace=True)"
   ]
  },
  {
   "cell_type": "code",
   "execution_count": null,
   "metadata": {
    "collapsed": false
   },
   "outputs": [],
   "source": [
    "genre_counts.plot.bar(figsize=(10, 4), title=\"Number of Movies by Genre\");"
   ]
  },
  {
   "cell_type": "code",
   "execution_count": null,
   "metadata": {
    "collapsed": false
   },
   "outputs": [],
   "source": [
    "sns.violinplot(x=\"Horror\", y=\"EbertStars\", data=ebert_imdb_df, inner=None)\n",
    "# sns.swarmplot(x=\"Horror\", y=\"EbertStars\", data=ebert_imdb_df, color=\"w\", alpha=.5)\n",
    "plt.xlabel('Horror Movie or Not')\n",
    "plt.ylabel('Stars from Ebert')\n",
    "plt.title('Non-Horror vs. Horror');"
   ]
  },
  {
   "cell_type": "code",
   "execution_count": null,
   "metadata": {
    "collapsed": false
   },
   "outputs": [],
   "source": [
    "sns.violinplot(x=\"Season\", y=\"EbertStars\", hue=\"Foreign\", split=True, inner=\"stick\", \n",
    "               data=ebert_imdb_df)\n",
    "plt.xlabel('Season')\n",
    "plt.ylabel('Stars from Ebert')\n",
    "plt.title('Foreign Films Rated by Ebert');"
   ]
  },
  {
   "cell_type": "code",
   "execution_count": null,
   "metadata": {
    "collapsed": true
   },
   "outputs": [],
   "source": [
    "def more_visuals(rating=3.0):\n",
    "    individual_rating = ebert_imdb_df[ebert_imdb_df['EbertStars'] == rating]\n",
    "    \n",
    "    # User to Critic Review Ratio\n",
    "    ax = plt.axes()\n",
    "    ax = sns.distplot((individual_rating['UC_Ratio'].dropna()), bins=9, kde_kws={\"bw\": 0.25}, \n",
    "                  axlabel='User to Critic Review Ratio for {}'.format(rating))\n",
    "    ax.set_title(\"Normal Scale of User to Critic Review Ratio\")\n",
    "    plt.show()\n",
    "    \n",
    "    ax = plt.axes()\n",
    "    ax = sns.distplot(np.log(individual_rating['UC_Ratio'].dropna()), bins=9, kde_kws={\"bw\": 0.25}, \n",
    "                  axlabel='User to Critic Review Ratio for {}'.format(rating))\n",
    "    ax.set_title(\"Log Transformation of User to Critic Review Ratio\")\n",
    "    plt.show()\n",
    "    \n",
    "    # Description Length\n",
    "    ax = plt.axes()\n",
    "    ax = sns.distplot((individual_rating['Description_Len'].dropna()), bins=9, kde_kws={\"bw\": 0.25}, \n",
    "                  axlabel='Description Length for {}'.format(rating))\n",
    "    ax.set_title(\"Description Length\")\n",
    "    plt.show()"
   ]
  },
  {
   "cell_type": "code",
   "execution_count": null,
   "metadata": {
    "collapsed": false,
    "scrolled": false
   },
   "outputs": [],
   "source": [
    "more_visuals()"
   ]
  },
  {
   "cell_type": "code",
   "execution_count": null,
   "metadata": {
    "collapsed": false,
    "scrolled": false
   },
   "outputs": [],
   "source": [
    "more_visuals(rating=2.0)"
   ]
  },
  {
   "cell_type": "markdown",
   "metadata": {},
   "source": [
    "# Plan for Following Notebooks\n",
    "\n",
    "- Making predictions\n",
    "- Final analysis"
   ]
  }
 ],
 "metadata": {
  "anaconda-cloud": {},
  "kernelspec": {
   "display_name": "Python [default]",
   "language": "python",
   "name": "python3"
  },
  "language_info": {
   "codemirror_mode": {
    "name": "ipython",
    "version": 3
   },
   "file_extension": ".py",
   "mimetype": "text/x-python",
   "name": "python",
   "nbconvert_exporter": "python",
   "pygments_lexer": "ipython3",
   "version": "3.5.2"
  }
 },
 "nbformat": 4,
 "nbformat_minor": 1
}
